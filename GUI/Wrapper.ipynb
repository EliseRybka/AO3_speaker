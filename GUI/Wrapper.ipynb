{
 "cells": [
  {
   "cell_type": "code",
   "execution_count": 3,
   "metadata": {},
   "outputs": [
    {
     "data": {
      "text/plain": [
       "'DarkRed1'"
      ]
     },
     "execution_count": 3,
     "metadata": {},
     "output_type": "execute_result"
    }
   ],
   "source": [
    "from gtts import gTTS\n",
    "import os\n",
    "import fitz\n",
    "import numpy as np\n",
    "import AO3\n",
    "import PySimpleGUI as sg\n",
    "sg.theme('DarkRed1')"
   ]
  },
  {
   "cell_type": "markdown",
   "metadata": {},
   "source": [
    "Настроить говорение\n",
    "Настроить разные языки\n",
    "Написать pdf\n",
    "Написать вывод ошибок"
   ]
  },
  {
   "cell_type": "code",
   "execution_count": 6,
   "metadata": {},
   "outputs": [],
   "source": [
    "def from_pdf(pdf_document):\n",
    "    if '.pdf' not in pdf_document:\n",
    "        print('Wrong file format!')\n",
    "        return\n",
    "    \n",
    "    doc = fitz.open(pdf_document)  \n",
    "\n",
    "    book_marks = np.array(doc.getToC())[1:,2]\n",
    "    book_marks = np.append(book_marks, doc.pageCount)\n",
    "\n",
    "    for i in range(len(book_marks) - 1):\n",
    "        chapter_text = str()\n",
    "\n",
    "        for j in range(int(book_marks[i]), int(book_marks[i+1])):\n",
    "            page = doc.loadPage(j - 1)  \n",
    "            page_text = page.getText(\"text\")  \n",
    "            chapter_text += page_text \n",
    "\n",
    "        i += 1\n",
    "\n",
    "        chapter_text = chapter_text.replace('\\n', ' ')\n",
    "\n",
    "        ts = gTTS(chapter_text)\n",
    "        ts.save(pdf_document.split('.pdf')[0] + ' CH' + str(i) + '.mp3')\n",
    "\n",
    "        print('Chapter %i is saved' % i)\n",
    "\n",
    "    print('Work Saved!')\n",
    "    \n",
    "    return"
   ]
  },
  {
   "cell_type": "code",
   "execution_count": 7,
   "metadata": {},
   "outputs": [],
   "source": [
    "def from_url(work_id_str, dir_out):\n",
    "    work_id_str = work_id_str.strip(' ')\n",
    "    work_id = int(work_id_str)\n",
    "    \n",
    "    try:\n",
    "        work = AO3.Work(work_id)\n",
    "    except: \n",
    "        print('Work does not exist or work is restricted. Please check url or use pdf option.')\n",
    "        return\n",
    "    \n",
    "    work.load_chapters()\n",
    "    \n",
    "    print(work.title)\n",
    "    print('Number of chapters:', work.chapters)\n",
    "    \n",
    "    for i in range(work.chapters):\n",
    "        i += 1\n",
    "        text = work.get_chapter_text(i)\n",
    "\n",
    "        tts = gTTS(text)\n",
    "        tts.save(os.path.join(dir_out, work_id_str + 'CH' + str(i) + '.mp3'))\n",
    "\n",
    "        print('Chapter %i is saved' % i)\n",
    "    \n",
    "    return work.title, work.chapters"
   ]
  },
  {
   "cell_type": "code",
   "execution_count": 8,
   "metadata": {},
   "outputs": [],
   "source": [
    "# All the stuff inside your window.\n",
    "layout = [ [sg.Text('Greetings! This is a program to convert AO3 fics to .mp3 using automatic text-to-speach:')],\n",
    "            [sg.Text(' ')],\n",
    "            [sg.Text('Enter fic id on AO3:')], \n",
    "            [sg.InputText(key=\"-URL-\")],\n",
    "            [sg.Text('or')], \n",
    "            [sg.Text('Choose pdf file downloaded from AO3 on your computer:')], \n",
    "            [sg.InputText(key=\"-PDF-\"), sg.FileBrowse()],\n",
    "            [sg.Text(' ')],\n",
    "            [sg.Text('Where to save:')], \n",
    "            [sg.InputText(key=\"-DIR-\"), sg.FolderBrowse()],\n",
    "            [sg.Button('Generate'), sg.Button('Cancel')]]\n",
    "\n",
    "# Create the Window\n",
    "window = sg.Window('AO3 speaker v1', layout)\n",
    "\n",
    "# Event Loop to process \"events\" and get the \"values\" of the inputs\n",
    "while True:\n",
    "    event, values = window.read()\n",
    "    if event == sg.WIN_CLOSED or event == 'Cancel': # if user closes window or clicks cancel\n",
    "        break\n",
    "    ##################    \n",
    "    output_dir = values['-DIR-']\n",
    "    work_id = values['-URL-']\n",
    "    pdf_adress = values['-PDF-']\n",
    "        \n",
    "    if work_id == '' and pdf_adress == '':\n",
    "        print('Please enter fic credentials!')\n",
    "        \n",
    "    if output_dir == '':\n",
    "        print('Please shoose where to save audio!')\n",
    "\n",
    "    from_url(work_id, output_dir)\n",
    "    from_pdf(pdf_adress)\n",
    "    \n",
    "    print()\n",
    "window.close()"
   ]
  },
  {
   "cell_type": "code",
   "execution_count": null,
   "metadata": {},
   "outputs": [],
   "source": []
  }
 ],
 "metadata": {
  "kernelspec": {
   "display_name": "Python 3 (ipykernel)",
   "language": "python",
   "name": "python3"
  },
  "language_info": {
   "codemirror_mode": {
    "name": "ipython",
    "version": 3
   },
   "file_extension": ".py",
   "mimetype": "text/x-python",
   "name": "python",
   "nbconvert_exporter": "python",
   "pygments_lexer": "ipython3",
   "version": "3.7.13"
  }
 },
 "nbformat": 4,
 "nbformat_minor": 4
}
